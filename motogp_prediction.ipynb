{
 "cells": [
  {
   "cell_type": "markdown",
   "id": "639b60ed",
   "metadata": {},
   "source": [
    "## Exploratory Data Analysis (EDA)\n"
   ]
  },
  {
   "cell_type": "markdown",
   "id": "f992399f",
   "metadata": {},
   "source": []
  },
  {
   "cell_type": "code",
   "execution_count": null,
   "id": "c4ca9719",
   "metadata": {
    "vscode": {
     "languageId": "plaintext"
    }
   },
   "outputs": [],
   "source": [
    "# Dataset shapes\n",
    "print(\"Training set shape:\", train.shape)\n",
    "print(\"Test set shape:\", test.shape)\n",
    "print(\"Validation set shape:\", val.shape)\n",
    "\n",
    "# Checking missing values\n",
    "missing_values = train.isnull().sum()\n",
    "print(\"Missing Values:\\n\", missing_values[missing_values > 0])\n"
   ]
  }
 ],
 "metadata": {
  "kernelspec": {
   "display_name": "Python 3 (ipykernel)",
   "language": "python",
   "name": "python3"
  },
  "language_info": {
   "codemirror_mode": {
    "name": "ipython",
    "version": 3
   },
   "file_extension": ".py",
   "mimetype": "text/x-python",
   "name": "python",
   "nbconvert_exporter": "python",
   "pygments_lexer": "ipython3",
   "version": "3.13.2"
  }
 },
 "nbformat": 4,
 "nbformat_minor": 5
}
